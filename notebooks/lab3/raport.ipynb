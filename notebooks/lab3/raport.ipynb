{
 "cells": [
  {
   "cell_type": "markdown",
   "metadata": {},
   "source": [
    "# Lab 3 - Gry dwuosobowe"
   ]
  },
  {
   "cell_type": "code",
   "execution_count": 36,
   "metadata": {},
   "outputs": [],
   "source": [
    "from wsilib.algorithms.minimax.minimax import MiniMaxPlayer, MiniMaxAlphaBetaPlayer\n",
    "from wsilib.game.game import TicTacToe\n",
    "from wsilib.game.player import RandomPlayer\n",
    "from typing import Tuple, Literal\n",
    "from src.plotting import print_tic_tac_toe\n",
    "import numpy as np\n"
   ]
  },
  {
   "cell_type": "markdown",
   "metadata": {},
   "source": [
    "## Kółko i krzyżyk 3x3"
   ]
  },
  {
   "cell_type": "markdown",
   "metadata": {},
   "source": [
    "### Heurystyka dla algorytmu minimax"
   ]
  },
  {
   "cell_type": "code",
   "execution_count": 37,
   "metadata": {},
   "outputs": [],
   "source": [
    "def heuristic3x3(state: Tuple, turn: Literal[1, 0]) -> int:\n",
    "    state = list(state)\n",
    "    for i in range(len(state)):\n",
    "        if state[i] is None:\n",
    "            state[i] = 0\n",
    "        elif state[i] == turn:\n",
    "            state[i] = 1\n",
    "        else:\n",
    "            state[i] = -1\n",
    "    matrix = np.array(state).reshape((3, 3))\n",
    "\n",
    "    point_matrix = np.array(\n",
    "        [\n",
    "            [3, 2, 3],\n",
    "            [2, 4, 2],\n",
    "            [3, 2, 3],\n",
    "        ]\n",
    "    )\n",
    "    return np.sum(point_matrix * matrix)"
   ]
  },
  {
   "cell_type": "markdown",
   "metadata": {},
   "source": [
    "### Przykład gry MiniMax vs random\n"
   ]
  },
  {
   "cell_type": "code",
   "execution_count": 38,
   "metadata": {},
   "outputs": [
    {
     "name": "stdout",
     "output_type": "stream",
     "text": [
      "   |   |   \n",
      "---+---+---\n",
      "   |   |   \n",
      "---+---+---\n",
      "   |   |   \n",
      "\n",
      "\n",
      " X |   |   \n",
      "---+---+---\n",
      "   |   |   \n",
      "---+---+---\n",
      "   |   |   \n",
      "\n",
      "\n",
      " X | O |   \n",
      "---+---+---\n",
      "   |   |   \n",
      "---+---+---\n",
      "   |   |   \n",
      "\n",
      "\n",
      " X | O |   \n",
      "---+---+---\n",
      "   | X |   \n",
      "---+---+---\n",
      "   |   |   \n",
      "\n",
      "\n",
      " X | O | O \n",
      "---+---+---\n",
      "   | X |   \n",
      "---+---+---\n",
      "   |   |   \n",
      "\n",
      "\n",
      " X | O | O \n",
      "---+---+---\n",
      "   | X | X \n",
      "---+---+---\n",
      "   |   |   \n",
      "\n",
      "\n",
      " X | O | O \n",
      "---+---+---\n",
      " O | X | X \n",
      "---+---+---\n",
      "   |   |   \n",
      "\n",
      "\n",
      " X | O | O \n",
      "---+---+---\n",
      " O | X | X \n",
      "---+---+---\n",
      "   |   | X \n",
      "\n",
      "\n",
      "Game over. Winner: X\n"
     ]
    }
   ],
   "source": [
    "game = TicTacToe(size=3)\n",
    "\n",
    "players = [\n",
    "    RandomPlayer(game, 0),\n",
    "    MiniMaxPlayer(game, 1, heuristic=heuristic3x3, depth=5)\n",
    "]\n",
    "\n",
    "p = 0\n",
    "while True:\n",
    "    print_tic_tac_toe(game.state)\n",
    "    result = game.make_move(players[p].get_move())\n",
    "    p = 1 - p\n",
    "    if result[0]:\n",
    "        print_tic_tac_toe(game.state)\n",
    "        break\n",
    "\n",
    "print(\"Game over. Winner:\", \"O\" if result[1] else \"X\")\n"
   ]
  }
 ],
 "metadata": {
  "kernelspec": {
   "display_name": ".venv",
   "language": "python",
   "name": "python3"
  },
  "language_info": {
   "codemirror_mode": {
    "name": "ipython",
    "version": 3
   },
   "file_extension": ".py",
   "mimetype": "text/x-python",
   "name": "python",
   "nbconvert_exporter": "python",
   "pygments_lexer": "ipython3",
   "version": "3.10.7"
  }
 },
 "nbformat": 4,
 "nbformat_minor": 2
}
