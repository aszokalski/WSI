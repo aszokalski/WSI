{
 "cells": [
  {
   "cell_type": "markdown",
   "metadata": {},
   "source": [
    "# Lab 2 - Algorytmy ewolucyjne"
   ]
  },
  {
   "cell_type": "code",
   "execution_count": 2,
   "metadata": {},
   "outputs": [],
   "source": [
    "# all explicilty imported modules\n",
    "from imports import (\n",
    "    Population,\n",
    "    BinaryIndividualType,\n",
    "    UnitRangeIndividualType, \n",
    "    GeneticOperations,\n",
    "    SelectionMethods, \n",
    "    SuccessionMethods, \n",
    "    EvoIteration, \n",
    "    EvoResult,\n",
    "    EvoSolver,\n",
    "    StopConditions, \n",
    "    Function\n",
    ")\n"
   ]
  },
  {
   "cell_type": "code",
   "execution_count": 3,
   "metadata": {},
   "outputs": [
    {
     "name": "stdout",
     "output_type": "stream",
     "text": [
      "EvoIteration(n_iter=0, time_running=0.0026, x=array([0.55469251, 0.73926572, 0.82929264, 0.50168089, 0.39533295,\n",
      "       0.39004826, 0.66483928, 0.80910112, 0.85722382, 0.97238727]), f_value=0.854197584859311)\n",
      "aaaa\n"
     ]
    },
    {
     "ename": "ValueError",
     "evalue": "a must be 1-dimensional",
     "output_type": "error",
     "traceback": [
      "\u001b[0;31m---------------------------------------------------------------------------\u001b[0m",
      "\u001b[0;31mValueError\u001b[0m                                Traceback (most recent call last)",
      "\u001b[1;32m/Users/aszokalski/Developer/studia/Sem 3/WSI/notebooks/lab2/lab2.ipynb Cell 3\u001b[0m line \u001b[0;36m2\n\u001b[1;32m      <a href='vscode-notebook-cell:/Users/aszokalski/Developer/studia/Sem%203/WSI/notebooks/lab2/lab2.ipynb#W2sZmlsZQ%3D%3D?line=0'>1</a>\u001b[0m f \u001b[39m=\u001b[39m Function(\n\u001b[1;32m      <a href='vscode-notebook-cell:/Users/aszokalski/Developer/studia/Sem%203/WSI/notebooks/lab2/lab2.ipynb#W2sZmlsZQ%3D%3D?line=1'>2</a>\u001b[0m     \u001b[39mlambda\u001b[39;00m x: x[\u001b[39m0\u001b[39m]\u001b[39m*\u001b[39m\u001b[39m*\u001b[39m\u001b[39m2\u001b[39m \u001b[39m+\u001b[39m x[\u001b[39m1\u001b[39m]\u001b[39m*\u001b[39m\u001b[39m*\u001b[39m\u001b[39m2\u001b[39m,\n\u001b[1;32m      <a href='vscode-notebook-cell:/Users/aszokalski/Developer/studia/Sem%203/WSI/notebooks/lab2/lab2.ipynb#W2sZmlsZQ%3D%3D?line=2'>3</a>\u001b[0m     dim\u001b[39m=\u001b[39m\u001b[39m2\u001b[39m,\n\u001b[1;32m      <a href='vscode-notebook-cell:/Users/aszokalski/Developer/studia/Sem%203/WSI/notebooks/lab2/lab2.ipynb#W2sZmlsZQ%3D%3D?line=3'>4</a>\u001b[0m )\n\u001b[1;32m      <a href='vscode-notebook-cell:/Users/aszokalski/Developer/studia/Sem%203/WSI/notebooks/lab2/lab2.ipynb#W2sZmlsZQ%3D%3D?line=5'>6</a>\u001b[0m solver \u001b[39m=\u001b[39m EvoSolver(\n\u001b[1;32m      <a href='vscode-notebook-cell:/Users/aszokalski/Developer/studia/Sem%203/WSI/notebooks/lab2/lab2.ipynb#W2sZmlsZQ%3D%3D?line=6'>7</a>\u001b[0m     individual_type\u001b[39m=\u001b[39mUnitRangeIndividualType(\u001b[39m10\u001b[39m),\n\u001b[1;32m      <a href='vscode-notebook-cell:/Users/aszokalski/Developer/studia/Sem%203/WSI/notebooks/lab2/lab2.ipynb#W2sZmlsZQ%3D%3D?line=7'>8</a>\u001b[0m     population_size\u001b[39m=\u001b[39m\u001b[39m100\u001b[39m,\n\u001b[0;32m   (...)\u001b[0m\n\u001b[1;32m     <a href='vscode-notebook-cell:/Users/aszokalski/Developer/studia/Sem%203/WSI/notebooks/lab2/lab2.ipynb#W2sZmlsZQ%3D%3D?line=16'>17</a>\u001b[0m     ]\n\u001b[1;32m     <a href='vscode-notebook-cell:/Users/aszokalski/Developer/studia/Sem%203/WSI/notebooks/lab2/lab2.ipynb#W2sZmlsZQ%3D%3D?line=17'>18</a>\u001b[0m )\n\u001b[0;32m---> <a href='vscode-notebook-cell:/Users/aszokalski/Developer/studia/Sem%203/WSI/notebooks/lab2/lab2.ipynb#W2sZmlsZQ%3D%3D?line=19'>20</a>\u001b[0m solver\u001b[39m.\u001b[39;49msolve(f, log\u001b[39m=\u001b[39;49m\u001b[39mTrue\u001b[39;49;00m)\n",
      "File \u001b[0;32m~/Developer/studia/Sem 3/WSI/notebooks/lab2/../../src/algorithms/evo/evo.py:120\u001b[0m, in \u001b[0;36mEvoSolver.solve\u001b[0;34m(self, problem, x0, log, log_interval_time)\u001b[0m\n\u001b[1;32m    106\u001b[0m     \u001b[39mreturn\u001b[39;00m EvoResult(\n\u001b[1;32m    107\u001b[0m         x0\u001b[39m=\u001b[39mx0,\n\u001b[1;32m    108\u001b[0m         x\u001b[39m=\u001b[39miteration\u001b[39m.\u001b[39mx,\n\u001b[0;32m   (...)\u001b[0m\n\u001b[1;32m    115\u001b[0m         history\u001b[39m=\u001b[39mhistory,\n\u001b[1;32m    116\u001b[0m     )\n\u001b[1;32m    118\u001b[0m history\u001b[39m.\u001b[39mappend(iteration)\n\u001b[0;32m--> 120\u001b[0m new_population \u001b[39m=\u001b[39m \u001b[39mself\u001b[39;49m\u001b[39m.\u001b[39;49mselection_method\u001b[39m.\u001b[39;49mfunction(population, problem)\n\u001b[1;32m    122\u001b[0m mutated_population \u001b[39m=\u001b[39m new_population\n\u001b[1;32m    123\u001b[0m \u001b[39mfor\u001b[39;00m operation \u001b[39min\u001b[39;00m \u001b[39mself\u001b[39m\u001b[39m.\u001b[39mgenetic_operations:\n",
      "File \u001b[0;32m~/Developer/studia/Sem 3/WSI/notebooks/lab2/../../src/algorithms/evo/selection_methods.py:25\u001b[0m, in \u001b[0;36mSelectionMethods.tournament_selection.<locals>.selection_method\u001b[0;34m(population, fitness_function)\u001b[0m\n\u001b[1;32m     22\u001b[0m \u001b[39mprint\u001b[39m(\u001b[39m\"\u001b[39m\u001b[39maaaa\u001b[39m\u001b[39m\"\u001b[39m)\n\u001b[1;32m     23\u001b[0m \u001b[39m\u001b[39m\u001b[39m\"\"\"Select k individuals from population using tournament selection.\"\"\"\u001b[39;00m\n\u001b[1;32m     24\u001b[0m \u001b[39mreturn\u001b[39;00m np\u001b[39m.\u001b[39marray(\n\u001b[0;32m---> 25\u001b[0m     [\n\u001b[1;32m     26\u001b[0m         \u001b[39mmax\u001b[39m(\n\u001b[1;32m     27\u001b[0m             np\u001b[39m.\u001b[39mrandom\u001b[39m.\u001b[39mchoice(population, size\u001b[39m=\u001b[39mk, replace\u001b[39m=\u001b[39m\u001b[39mFalse\u001b[39;00m),\n\u001b[1;32m     28\u001b[0m             key\u001b[39m=\u001b[39mfitness_function,\n\u001b[1;32m     29\u001b[0m         )\n\u001b[1;32m     30\u001b[0m         \u001b[39mfor\u001b[39;00m _ \u001b[39min\u001b[39;00m \u001b[39mrange\u001b[39m(\u001b[39mlen\u001b[39m(population))\n\u001b[1;32m     31\u001b[0m     ]\n\u001b[1;32m     32\u001b[0m )\n",
      "File \u001b[0;32m~/Developer/studia/Sem 3/WSI/notebooks/lab2/../../src/algorithms/evo/selection_methods.py:27\u001b[0m, in \u001b[0;36m<listcomp>\u001b[0;34m(.0)\u001b[0m\n\u001b[1;32m     22\u001b[0m \u001b[39mprint\u001b[39m(\u001b[39m\"\u001b[39m\u001b[39maaaa\u001b[39m\u001b[39m\"\u001b[39m)\n\u001b[1;32m     23\u001b[0m \u001b[39m\u001b[39m\u001b[39m\"\"\"Select k individuals from population using tournament selection.\"\"\"\u001b[39;00m\n\u001b[1;32m     24\u001b[0m \u001b[39mreturn\u001b[39;00m np\u001b[39m.\u001b[39marray(\n\u001b[1;32m     25\u001b[0m     [\n\u001b[1;32m     26\u001b[0m         \u001b[39mmax\u001b[39m(\n\u001b[0;32m---> 27\u001b[0m             np\u001b[39m.\u001b[39;49mrandom\u001b[39m.\u001b[39;49mchoice(population, size\u001b[39m=\u001b[39;49mk, replace\u001b[39m=\u001b[39;49m\u001b[39mFalse\u001b[39;49;00m),\n\u001b[1;32m     28\u001b[0m             key\u001b[39m=\u001b[39mfitness_function,\n\u001b[1;32m     29\u001b[0m         )\n\u001b[1;32m     30\u001b[0m         \u001b[39mfor\u001b[39;00m _ \u001b[39min\u001b[39;00m \u001b[39mrange\u001b[39m(\u001b[39mlen\u001b[39m(population))\n\u001b[1;32m     31\u001b[0m     ]\n\u001b[1;32m     32\u001b[0m )\n",
      "File \u001b[0;32mnumpy/random/mtrand.pyx:946\u001b[0m, in \u001b[0;36mnumpy.random.mtrand.RandomState.choice\u001b[0;34m()\u001b[0m\n",
      "\u001b[0;31mValueError\u001b[0m: a must be 1-dimensional"
     ]
    }
   ],
   "source": [
    "f = Function(\n",
    "    lambda x: x[0]**2 + x[1]**2,\n",
    "    dim=2,\n",
    ")\n",
    "\n",
    "solver = EvoSolver(\n",
    "    individual_type=UnitRangeIndividualType(10),\n",
    "    population_size=100,\n",
    "    selection_method=SelectionMethods.tournament_selection(2),\n",
    "    genetic_operations=[\n",
    "        GeneticOperations.mutation(0.1),\n",
    "        GeneticOperations.single_point_crossover(),\n",
    "    ],\n",
    "    succession_method=SuccessionMethods.elitism_succession(1),\n",
    "    stop_conditions=[\n",
    "        StopConditions.max_iterations(100),\n",
    "    ]\n",
    ")\n",
    "\n",
    "solver.solve(f, log=True)"
   ]
  }
 ],
 "metadata": {
  "kernelspec": {
   "display_name": ".venv",
   "language": "python",
   "name": "python3"
  },
  "language_info": {
   "codemirror_mode": {
    "name": "ipython",
    "version": 3
   },
   "file_extension": ".py",
   "mimetype": "text/x-python",
   "name": "python",
   "nbconvert_exporter": "python",
   "pygments_lexer": "ipython3",
   "version": "3.10.7"
  }
 },
 "nbformat": 4,
 "nbformat_minor": 2
}
